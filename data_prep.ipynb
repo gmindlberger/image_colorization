{
 "cells": [
  {
   "cell_type": "code",
   "id": "initial_id",
   "metadata": {
    "collapsed": true,
    "ExecuteTime": {
     "end_time": "2025-04-26T14:42:16.873940Z",
     "start_time": "2025-04-26T14:40:32.814526Z"
    }
   },
   "source": [
    "import kagglehub\n",
    "\n",
    "# Download latest version\n",
    "path = kagglehub.dataset_download(\"arnaud58/landscape-pictures\")\n",
    "\n",
    "print(\"Path to dataset files:\", path)"
   ],
   "outputs": [
    {
     "name": "stdout",
     "output_type": "stream",
     "text": [
      "Downloading from https://www.kaggle.com/api/v1/datasets/download/arnaud58/landscape-pictures?dataset_version_number=2...\n"
     ]
    },
    {
     "name": "stderr",
     "output_type": "stream",
     "text": [
      "100%|██████████| 620M/620M [01:39<00:00, 6.51MB/s] "
     ]
    },
    {
     "name": "stdout",
     "output_type": "stream",
     "text": [
      "Extracting files...\n"
     ]
    },
    {
     "name": "stderr",
     "output_type": "stream",
     "text": [
      "\n"
     ]
    },
    {
     "name": "stdout",
     "output_type": "stream",
     "text": [
      "Path to dataset files: /Users/gabrielmindlberger/.cache/kagglehub/datasets/arnaud58/landscape-pictures/versions/2\n"
     ]
    }
   ],
   "execution_count": 4
  },
  {
   "metadata": {
    "ExecuteTime": {
     "end_time": "2025-04-26T14:43:48.058823Z",
     "start_time": "2025-04-26T14:43:47.683637Z"
    }
   },
   "cell_type": "code",
   "source": [
    "import os\n",
    "\n",
    "# Alle .jpg-Dateien im Ordner (ohne Sortierung)\n",
    "files = [f for f in os.listdir(path) if f.lower().endswith(\".jpg\")]\n",
    "\n",
    "total = len(files)\n",
    "digits = len(str(total))  # Anzahl Ziffern\n",
    "\n",
    "for idx, fname in enumerate(files, start=1):\n",
    "    src = os.path.join(path, fname)\n",
    "    new_name = f\"{idx:0{digits}d}.jpg\"  # z.B. 001.jpg, 002.jpg, …\n",
    "    dst = os.path.join(path, new_name)\n",
    "    os.rename(src, dst)\n",
    "\n",
    "print(f\"Renamed {total} files in '{path}'\")"
   ],
   "id": "10861c2131a6f6a7",
   "outputs": [
    {
     "name": "stdout",
     "output_type": "stream",
     "text": [
      "Renamed 4319 files in '/Users/gabrielmindlberger/.cache/kagglehub/datasets/arnaud58/landscape-pictures/versions/2'\n"
     ]
    }
   ],
   "execution_count": 5
  },
  {
   "metadata": {},
   "cell_type": "code",
   "outputs": [],
   "execution_count": null,
   "source": "# rename files TO COLORIZED",
   "id": "13a2d6555b05c385"
  }
 ],
 "metadata": {
  "kernelspec": {
   "display_name": "Python 3",
   "language": "python",
   "name": "python3"
  },
  "language_info": {
   "codemirror_mode": {
    "name": "ipython",
    "version": 2
   },
   "file_extension": ".py",
   "mimetype": "text/x-python",
   "name": "python",
   "nbconvert_exporter": "python",
   "pygments_lexer": "ipython2",
   "version": "2.7.6"
  }
 },
 "nbformat": 4,
 "nbformat_minor": 5
}
