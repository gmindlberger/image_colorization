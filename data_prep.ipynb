{
 "cells": [
  {
   "cell_type": "code",
   "id": "initial_id",
   "metadata": {
    "collapsed": true,
    "ExecuteTime": {
     "end_time": "2025-04-26T15:51:30.221943Z",
     "start_time": "2025-04-26T15:51:11.269598Z"
    }
   },
   "source": [
    "import kagglehub\n",
    "\n",
    "# Download latest version\n",
    "path = kagglehub.dataset_download(\"arnaud58/landscape-pictures\")\n",
    "\n",
    "print(\"Path to dataset files:\", path)"
   ],
   "outputs": [
    {
     "name": "stderr",
     "output_type": "stream",
     "text": [
      "/home/gabri/miniconda3/envs/pytorch_interpreter/lib/python3.12/site-packages/tqdm/auto.py:21: TqdmWarning: IProgress not found. Please update jupyter and ipywidgets. See https://ipywidgets.readthedocs.io/en/stable/user_install.html\n",
      "  from .autonotebook import tqdm as notebook_tqdm\n"
     ]
    },
    {
     "name": "stdout",
     "output_type": "stream",
     "text": [
      "Warning: Looks like you're using an outdated `kagglehub` version, please consider updating (latest version: 0.3.12)\n",
      "Downloading from https://www.kaggle.com/api/v1/datasets/download/arnaud58/landscape-pictures?dataset_version_number=2...\n"
     ]
    },
    {
     "name": "stderr",
     "output_type": "stream",
     "text": [
      "100%|██████████| 620M/620M [00:16<00:00, 39.3MB/s] "
     ]
    },
    {
     "name": "stdout",
     "output_type": "stream",
     "text": [
      "Extracting model files...\n"
     ]
    },
    {
     "name": "stderr",
     "output_type": "stream",
     "text": [
      "\n"
     ]
    },
    {
     "name": "stdout",
     "output_type": "stream",
     "text": [
      "Path to dataset files: /home/gabri/.cache/kagglehub/datasets/arnaud58/landscape-pictures/versions/2\n"
     ]
    }
   ],
   "execution_count": 2
  },
  {
   "metadata": {
    "ExecuteTime": {
     "end_time": "2025-04-26T15:51:42.662659Z",
     "start_time": "2025-04-26T15:51:42.613407Z"
    }
   },
   "cell_type": "code",
   "source": [
    "import os\n",
    "\n",
    "# Alle .jpg-Dateien im Ordner (ohne Sortierung)\n",
    "files = [f for f in os.listdir(path) if f.lower().endswith(\".jpg\")]\n",
    "\n",
    "total = len(files)\n",
    "digits = len(str(total))  # Anzahl Ziffern\n",
    "\n",
    "for idx, fname in enumerate(files, start=1):\n",
    "    src = os.path.join(path, fname)\n",
    "    new_name = f\"{idx:0{digits}d}.jpg\"  # z.B. 001.jpg, 002.jpg, …\n",
    "    dst = os.path.join(path, new_name)\n",
    "    os.rename(src, dst)\n",
    "\n",
    "print(f\"Renamed {total} files in '{path}'\")"
   ],
   "id": "10861c2131a6f6a7",
   "outputs": [
    {
     "name": "stdout",
     "output_type": "stream",
     "text": [
      "Renamed 4319 files in '/home/gabri/.cache/kagglehub/datasets/arnaud58/landscape-pictures/versions/2'\n"
     ]
    }
   ],
   "execution_count": 3
  }
 ],
 "metadata": {
  "kernelspec": {
   "display_name": "Python 3",
   "language": "python",
   "name": "python3"
  },
  "language_info": {
   "codemirror_mode": {
    "name": "ipython",
    "version": 2
   },
   "file_extension": ".py",
   "mimetype": "text/x-python",
   "name": "python",
   "nbconvert_exporter": "python",
   "pygments_lexer": "ipython2",
   "version": "2.7.6"
  }
 },
 "nbformat": 4,
 "nbformat_minor": 5
}
