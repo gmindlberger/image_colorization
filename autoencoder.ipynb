{
 "cells": [
  {
   "metadata": {
    "ExecuteTime": {
     "end_time": "2025-05-10T10:12:14.040452Z",
     "start_time": "2025-05-10T10:12:14.024420Z"
    }
   },
   "cell_type": "code",
   "source": [
    "%load_ext autoreload\n",
    "%autoreload 2"
   ],
   "id": "91f40f5ad52c8793",
   "outputs": [],
   "execution_count": 1
  },
  {
   "cell_type": "code",
   "id": "initial_id",
   "metadata": {
    "collapsed": true,
    "ExecuteTime": {
     "end_time": "2025-05-10T10:12:16.163454Z",
     "start_time": "2025-05-10T10:12:14.111828Z"
    }
   },
   "source": [
    "import kagglehub\n",
    "import torch\n",
    "import torch.nn as nn\n",
    "from torch.utils.data import DataLoader, random_split\n",
    "\n",
    "from trainer import Trainer\n",
    "\n",
    "#import Dataloader\n",
    "from dataloader import ImageColorizerDataset\n",
    "\n",
    "#import architectures\n",
    "from neural_nets import ImageColorizer, ImageSuperRes, UNet, UNetRes, ImageColorizerLAB, ColorizeNet, count_params\n",
    "from grid_search import run_grid_search, plot_results"
   ],
   "outputs": [
    {
     "name": "stderr",
     "output_type": "stream",
     "text": [
      "/Users/gabrielmindlberger/Library/Mobile Documents/com~apple~CloudDocs/FH-AI/Sem2/ML/PRO/.venv/lib/python3.9/site-packages/urllib3/__init__.py:35: NotOpenSSLWarning: urllib3 v2 only supports OpenSSL 1.1.1+, currently the 'ssl' module is compiled with 'LibreSSL 2.8.3'. See: https://github.com/urllib3/urllib3/issues/3020\n",
      "  warnings.warn(\n",
      "/Users/gabrielmindlberger/Library/Mobile Documents/com~apple~CloudDocs/FH-AI/Sem2/ML/PRO/.venv/lib/python3.9/site-packages/tqdm/auto.py:21: TqdmWarning: IProgress not found. Please update jupyter and ipywidgets. See https://ipywidgets.readthedocs.io/en/stable/user_install.html\n",
      "  from .autonotebook import tqdm as notebook_tqdm\n"
     ]
    }
   ],
   "execution_count": 2
  },
  {
   "metadata": {
    "ExecuteTime": {
     "end_time": "2025-05-10T10:12:16.708182Z",
     "start_time": "2025-05-10T10:12:16.170899Z"
    }
   },
   "cell_type": "code",
   "source": [
    "# Download latest version\n",
    "IMAGE_PATH = kagglehub.dataset_download(\"arnaud58/landscape-pictures\")\n",
    "print(\"Path to dataset files:\", IMAGE_PATH)"
   ],
   "id": "14ca2865c57a71b",
   "outputs": [
    {
     "name": "stdout",
     "output_type": "stream",
     "text": [
      "Path to dataset files: /Users/gabrielmindlberger/.cache/kagglehub/datasets/arnaud58/landscape-pictures/versions/2\n"
     ]
    }
   ],
   "execution_count": 3
  },
  {
   "metadata": {
    "ExecuteTime": {
     "end_time": "2025-05-10T10:12:16.752965Z",
     "start_time": "2025-05-10T10:12:16.719232Z"
    }
   },
   "cell_type": "code",
   "source": [
    "# 2. Device config\n",
    "device = torch.device(\n",
    "    'mps' if torch.backends.mps.is_available()\n",
    "    else 'cuda' if torch.cuda.is_available()\n",
    "    else 'cpu'\n",
    ")\n",
    "\n",
    "print(f'Using device: {device}')"
   ],
   "id": "bf0603e3e9f52de",
   "outputs": [
    {
     "name": "stdout",
     "output_type": "stream",
     "text": [
      "Using device: mps\n"
     ]
    }
   ],
   "execution_count": 4
  },
  {
   "metadata": {
    "ExecuteTime": {
     "end_time": "2025-05-10T10:12:16.783914Z",
     "start_time": "2025-05-10T10:12:16.760757Z"
    }
   },
   "cell_type": "code",
   "source": [
    "# 3. Hyperparameters\n",
    "img_height, img_width = 128, 128\n",
    "batch_size            = 32\n",
    "num_epochs            = 10\n",
    "learning_rate         = 1e-3"
   ],
   "id": "8a5677ab3e22e953",
   "outputs": [],
   "execution_count": 5
  },
  {
   "metadata": {},
   "cell_type": "markdown",
   "source": [
    "# 3.1 Hyperparameters with Grid-Search\n",
    "grid = {\n",
    "    'img_size': [(96,96), (128,128), (180,180)],\n",
    "    'lr':       [1e-2, 1e-3, 1e-4],\n",
    "    'bs':       [16, 32],\n",
    "    'epochs':   [1, 2],\n",
    "}\n",
    "df_results = run_grid_search(IMAGE_PATH, grid)\n",
    "plot_results(df_results)"
   ],
   "id": "1a5eb088c2742c17"
  },
  {
   "metadata": {
    "ExecuteTime": {
     "end_time": "2025-05-10T10:12:16.820284Z",
     "start_time": "2025-05-10T10:12:16.790929Z"
    }
   },
   "cell_type": "code",
   "source": [
    "# 1. Dataset laden\n",
    "dataset   = ImageColorizerDataset(IMAGE_PATH, img_height, img_width)\n",
    "n_total   = len(dataset)\n",
    "\n",
    "# 2. Fraktionen definieren\n",
    "val_frac  = 0.1   # 20 % für Validation\n",
    "test_frac = 0.01   # 10 % für Test\n",
    "train_frac = 1.0 - val_frac - test_frac\n",
    "\n",
    "# 3. Größen berechnen\n",
    "n_val   = int(n_total * val_frac)\n",
    "n_test  = int(n_total * test_frac)\n",
    "n_train = n_total - n_val - n_test  # Rest für Training\n",
    "\n",
    "# 4. Splitten\n",
    "train_ds, val_ds, test_ds = random_split(\n",
    "    dataset,\n",
    "    [n_train, n_val, n_test],\n",
    "    generator=torch.Generator().manual_seed(42)  # für Reproduzierbarkeit\n",
    ")\n",
    "\n",
    "# 5. DataLoader anlegen\n",
    "train_loader = DataLoader(train_ds,   batch_size=batch_size, shuffle=True,  num_workers=4)\n",
    "val_loader   = DataLoader(val_ds,     batch_size=batch_size, shuffle=False, num_workers=4)\n",
    "test_loader  = DataLoader(test_ds,    batch_size=batch_size, shuffle=False, num_workers=4)\n",
    "\n",
    "# 6. Größen-Check\n",
    "print(f'Total images:  {n_total}')\n",
    "print(f'Train images:  {len(train_ds)}')\n",
    "print(f'Val images:    {len(val_ds)}')\n",
    "print(f'Test images:   {len(test_ds)}')\n"
   ],
   "id": "7dfb724a7b09738d",
   "outputs": [
    {
     "name": "stdout",
     "output_type": "stream",
     "text": [
      "Total images:  4319\n",
      "Train images:  3845\n",
      "Val images:    431\n",
      "Test images:   43\n"
     ]
    }
   ],
   "execution_count": 6
  },
  {
   "metadata": {
    "ExecuteTime": {
     "end_time": "2025-05-10T10:12:16.859039Z",
     "start_time": "2025-05-10T10:12:16.830900Z"
    }
   },
   "cell_type": "code",
   "source": [
    "model = ImageColorizer(1, 2)\n",
    "criterion = nn.MSELoss()\n",
    "optimizer = torch.optim.Adam(model.parameters(), lr=learning_rate)\n",
    "print(model)\n",
    "\n",
    "count_params(model)"
   ],
   "id": "e875d7dec6805b8d",
   "outputs": [
    {
     "name": "stdout",
     "output_type": "stream",
     "text": [
      "ImageColorizer(\n",
      "  (enc1): Conv2d(1, 64, kernel_size=(3, 3), stride=(1, 1), padding=(1, 1))\n",
      "  (pool1): MaxPool2d(kernel_size=2, stride=2, padding=0, dilation=1, ceil_mode=False)\n",
      "  (enc2): Conv2d(64, 128, kernel_size=(3, 3), stride=(1, 1), padding=(1, 1))\n",
      "  (pool2): MaxPool2d(kernel_size=2, stride=2, padding=0, dilation=1, ceil_mode=False)\n",
      "  (enc3): Conv2d(128, 256, kernel_size=(3, 3), stride=(1, 1), padding=(1, 1))\n",
      "  (up1): Upsample(scale_factor=2.0, mode='nearest')\n",
      "  (dec1): Conv2d(256, 128, kernel_size=(3, 3), stride=(1, 1), padding=(1, 1))\n",
      "  (up2): Upsample(scale_factor=2.0, mode='nearest')\n",
      "  (dec2): Conv2d(128, 64, kernel_size=(3, 3), stride=(1, 1), padding=(1, 1))\n",
      "  (final): Conv2d(64, 2, kernel_size=(3, 3), stride=(1, 1), padding=(1, 1))\n",
      "  (relu): ReLU(inplace=True)\n",
      "  (sigmoid): Sigmoid()\n",
      ")\n"
     ]
    },
    {
     "data": {
      "text/plain": [
       "739650"
      ]
     },
     "execution_count": 7,
     "metadata": {},
     "output_type": "execute_result"
    }
   ],
   "execution_count": 7
  },
  {
   "metadata": {
    "jupyter": {
     "is_executing": true
    },
    "ExecuteTime": {
     "start_time": "2025-05-10T10:12:16.867013Z"
    }
   },
   "cell_type": "code",
   "source": [
    "trainer = Trainer(model = model, train_loader= train_loader, val_loader=val_loader, criterion=criterion, optimizer=optimizer, device=device, validate=True)\n",
    "trainer.fit(num_epochs)\n",
    "\n",
    "# 6. Lernkurve anzeigen\n",
    "trainer.plot_history()"
   ],
   "id": "730d71b5439b3e05",
   "outputs": [
    {
     "name": "stderr",
     "output_type": "stream",
     "text": [
      "  Train:   0%|          | 0/121 [00:00<?, ?it/s]"
     ]
    }
   ],
   "execution_count": null
  },
  {
   "metadata": {},
   "cell_type": "code",
   "source": "trainer.show_examples(test_loader)",
   "id": "be0c745d5ff5fcca",
   "outputs": [],
   "execution_count": null
  }
 ],
 "metadata": {
  "kernelspec": {
   "display_name": "Python 3",
   "language": "python",
   "name": "python3"
  },
  "language_info": {
   "codemirror_mode": {
    "name": "ipython",
    "version": 2
   },
   "file_extension": ".py",
   "mimetype": "text/x-python",
   "name": "python",
   "nbconvert_exporter": "python",
   "pygments_lexer": "ipython2",
   "version": "2.7.6"
  }
 },
 "nbformat": 4,
 "nbformat_minor": 5
}
